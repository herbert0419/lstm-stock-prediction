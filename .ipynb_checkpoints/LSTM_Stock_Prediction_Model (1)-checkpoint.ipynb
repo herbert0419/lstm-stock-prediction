{
 "cells": [
  {
   "cell_type": "markdown",
   "metadata": {
    "id": "wnc4RS-u6qav"
   },
   "source": [
    "# **<center>Stock Price Prediction with Technical & Fundamental Analysis</center>**\n",
    "**Stock**\n",
    "* Stocks, each unit of which is called a share, represent ownership of a company. Stocks, owned either directly or through a mutual fund or ETF, will likely form the majority of most investor’s portfolios. "
   ]
  },
  {
   "cell_type": "code",
   "execution_count": null,
   "metadata": {
    "id": "jpLOpaiPsyY0"
   },
   "outputs": [],
   "source": [
    "# !pip install --upgrade pandas-datareader\n",
    "# !pip install --upgrade pandas\n",
    "# !pip install yfinance\n",
    "import pandas as pd\n",
    "import numpy as np\n",
    "import matplotlib.pyplot as plt\n",
    "import seaborn as sns\n",
    "import yfinance as yf\n",
    "import pandas_datareader as data\n",
    "import datetime\n",
    "import warnings\n",
    "warnings.filterwarnings('ignore')"
   ]
  },
  {
   "cell_type": "code",
   "execution_count": null,
   "metadata": {
    "colab": {
     "base_uri": "https://localhost:8080/"
    },
    "id": "2DQX-3FdtKvE",
    "outputId": "1c5e849b-8532-4e03-e67e-ebd0dce0b53c"
   },
   "outputs": [],
   "source": [
    " df = yf.download(\"ADANIENT.NS\", start=\"2010-01-01\", end=\"2023-02-12\")\n",
    " df=df.round(2)"
   ]
  },
  {
   "cell_type": "code",
   "execution_count": null,
   "metadata": {
    "colab": {
     "base_uri": "https://localhost:8080/",
     "height": 237
    },
    "id": "G-VbLwbGtTI7",
    "outputId": "b15d7915-bd82-4f9b-e817-3114b8a04617"
   },
   "outputs": [],
   "source": [
    "df.sort_values(by ='Date', ascending = False).head()"
   ]
  },
  {
   "cell_type": "markdown",
   "metadata": {
    "id": "Z88rwb-A2Sus"
   },
   "source": [
    "### **Key Definitions**\n",
    "**Open:** The opening price of a stock at the beginning of a trading day.\n",
    "\n",
    "**High:** The highest price a stock reaches during a trading day.\n",
    "\n",
    "**Low:** The lowest price a stock reaches during a trading day.\n",
    "\n",
    "**Close:** The closing price of a stock at the end of a trading day.\n",
    "\n",
    "**Adj Close:** The adjusted closing price of a stock, which takes into account any dividends, stock splits, or other corporate actions that occurred during the day.\n",
    "\n",
    "**Volume:** The number of shares of a stock that were traded during a particular trading day. This is an important indicator of market activity and can provide insight into the level of buying and selling interest in a particular stock."
   ]
  },
  {
   "cell_type": "code",
   "execution_count": null,
   "metadata": {
    "colab": {
     "base_uri": "https://localhost:8080/",
     "height": 237
    },
    "id": "KDhvLO5PwCd0",
    "outputId": "39c99dd7-2435-4be7-a587-2de3b5998ec3"
   },
   "outputs": [],
   "source": [
    "df.tail()"
   ]
  },
  {
   "cell_type": "code",
   "execution_count": null,
   "metadata": {
    "colab": {
     "base_uri": "https://localhost:8080/"
    },
    "id": "oqKMMPBowDQz",
    "outputId": "ca09dd96-8e5f-4983-c24f-4d4d170f7b4f"
   },
   "outputs": [],
   "source": [
    "df.shape"
   ]
  },
  {
   "cell_type": "code",
   "execution_count": null,
   "metadata": {
    "id": "L242KdIcWai-"
   },
   "outputs": [],
   "source": [
    "df = df.reset_index()"
   ]
  },
  {
   "cell_type": "code",
   "execution_count": null,
   "metadata": {
    "colab": {
     "base_uri": "https://localhost:8080/"
    },
    "id": "C9_Xx9lY-gr8",
    "outputId": "16236fee-1671-44a3-b2a9-c75df15c815b"
   },
   "outputs": [],
   "source": [
    "df.isnull().sum()"
   ]
  },
  {
   "cell_type": "code",
   "execution_count": null,
   "metadata": {
    "colab": {
     "base_uri": "https://localhost:8080/"
    },
    "id": "vFd53zyx-kc9",
    "outputId": "27d2a796-b0e6-4e27-ad16-d2435fb466d6"
   },
   "outputs": [],
   "source": [
    "df.dtypes"
   ]
  },
  {
   "cell_type": "code",
   "execution_count": null,
   "metadata": {
    "colab": {
     "base_uri": "https://localhost:8080/"
    },
    "id": "tZDiCWhzWdFb",
    "outputId": "9faff5f4-549f-4da4-dc47-90581c7912a6"
   },
   "outputs": [],
   "source": [
    "df['Date'].max() - df['Date'].min()"
   ]
  },
  {
   "cell_type": "markdown",
   "metadata": {
    "id": "orEkVeISW2cj"
   },
   "source": [
    "* There are approximately 252 trading days in an year with an average of 21 days per month, or 63 days per quarter. Out of a possible 365 days, 104 days are weekends (Saturday and Sunday) when the stock exchanges are closed."
   ]
  },
  {
   "cell_type": "markdown",
   "metadata": {
    "id": "dRsl3XUaXOB1"
   },
   "source": [
    "**High-level overview of how the Adani Enterprises stock performed in about last couple of months** "
   ]
  },
  {
   "cell_type": "code",
   "execution_count": null,
   "metadata": {
    "colab": {
     "base_uri": "https://localhost:8080/",
     "height": 300
    },
    "id": "pUDz1MUqWdH1",
    "outputId": "b0ffea18-2a2d-40ca-e4e0-5ac5574e9c76"
   },
   "outputs": [],
   "source": [
    "df.iloc[-90:].describe().astype(int)"
   ]
  },
  {
   "cell_type": "markdown",
   "metadata": {
    "id": "3MmgO2SfXWsV"
   },
   "source": [
    "* In last 90 days, the average closing price for Adani Enterprises  was about ₹3517.\n",
    "* Min price in the last 90 days clocked 1565.\n",
    "* For about 75% of time the stock was trading below ₹3928 and it clocked maximum of ₹4165. The maximum volume of shares traded on a single day was 43885579 with median quantity being 1822552.\n",
    "* Based on the above few points, on broad level we can certainly say that the stock is highly volatile."
   ]
  },
  {
   "cell_type": "code",
   "execution_count": null,
   "metadata": {
    "id": "a772VyxQYKCS"
   },
   "outputs": [],
   "source": [
    "df.index = df['Date']"
   ]
  },
  {
   "cell_type": "markdown",
   "metadata": {
    "id": "pnAW5RovYRRg"
   },
   "source": [
    "**Now plot the closing price (adjusted) of the stock over the period of 14 years to get a general idea of how the stock performed in the given period**"
   ]
  },
  {
   "cell_type": "code",
   "execution_count": null,
   "metadata": {
    "colab": {
     "base_uri": "https://localhost:8080/",
     "height": 339
    },
    "id": "ZLM8qdYpYKFq",
    "outputId": "a40b3038-c993-43f4-c64d-c20006cb8a81"
   },
   "outputs": [],
   "source": [
    "df['Adj Close'].plot(figsize = (20,5))\n",
    "plt.title(\"Adani Enterprises Adj Close Price\", fontsize = 20)\n",
    "plt.xlabel('Date')\n",
    "plt.ylabel('Adj Close Price')\n",
    "plt.show()"
   ]
  },
  {
   "cell_type": "markdown",
   "metadata": {
    "id": "2ZN8LRA-Y0gH"
   },
   "source": [
    "* In the above plot, if you notice, there is a  increase in the price of stock sometime around 2021"
   ]
  },
  {
   "cell_type": "markdown",
   "metadata": {
    "id": "BDuyFK18Y-l_"
   },
   "source": [
    "**Let's plot for last 2 years and see the trends**"
   ]
  },
  {
   "cell_type": "code",
   "execution_count": null,
   "metadata": {
    "colab": {
     "base_uri": "https://localhost:8080/",
     "height": 347
    },
    "id": "acY6jffbZDHl",
    "outputId": "3ecfe19f-b66d-4a1e-db05-da1d07ede983"
   },
   "outputs": [],
   "source": [
    "df['Adj Close'].iloc[-504:].plot(figsize = (20,5))\n",
    "plt.title(\"Adani Enterprises Adj Close Price\", fontsize = 20)\n",
    "plt.xlabel('Date')\n",
    "plt.ylabel('Adj Close Price')\n",
    "plt.show()"
   ]
  },
  {
   "cell_type": "markdown",
   "metadata": {
    "id": "-KPGnUNTZVXL"
   },
   "source": [
    "* As the trends of the stock was upwards and suddenly there is a drastic decrese around Jan'21. The main reason for this drastic decrease was Hindenburg report"
   ]
  },
  {
   "cell_type": "markdown",
   "metadata": {
    "id": "Fz35qy6MZrs7"
   },
   "source": [
    "## **Day-to-day percentage change(Daily returns)**\n",
    "* Daily percentage change in the price of the stock is calculated on the basis of percentage change between 2 consecutive days’ closing prices. Let’s say if the closing price of the stock yesterday was ₹500 and today the stock closed as ₹550. So, the percentage change is 10%. i.e. ((550–500) / 500)*100."
   ]
  },
  {
   "cell_type": "code",
   "execution_count": null,
   "metadata": {
    "colab": {
     "base_uri": "https://localhost:8080/",
     "height": 237
    },
    "id": "MfpTiFzbYKHr",
    "outputId": "93e1945a-e3cd-40cb-f8a3-16bd8358b3a9"
   },
   "outputs": [],
   "source": [
    "df['Day_Perc_Change'] = df['Adj Close'].pct_change()*100\n",
    "df.head()"
   ]
  },
  {
   "cell_type": "code",
   "execution_count": null,
   "metadata": {
    "id": "VKUNE1siaC-W"
   },
   "outputs": [],
   "source": [
    "# Drop 1st value because it is Nan\n",
    "df.dropna(axis = 0, inplace = True)"
   ]
  },
  {
   "cell_type": "markdown",
   "metadata": {
    "id": "GYZXtkpBaNQp"
   },
   "source": [
    "**Plot a graph for daily returns over the priods of 13 years**"
   ]
  },
  {
   "cell_type": "code",
   "execution_count": null,
   "metadata": {
    "colab": {
     "base_uri": "https://localhost:8080/",
     "height": 362
    },
    "id": "80iPYVCFaDBd",
    "outputId": "0294be93-851b-4c9a-81b0-7c301870cf25"
   },
   "outputs": [],
   "source": [
    "df['Day_Perc_Change'].plot(figsize = (20, 5), fontsize = 12)\n",
    "plt.title(\"Adani Enterprises Daily Percentage Changes\", fontsize = 20)\n",
    "plt.xlabel('Date')\n",
    "plt.ylabel('Percenatge returns')"
   ]
  },
  {
   "cell_type": "markdown",
   "metadata": {
    "id": "8wsBzcrfanN3"
   },
   "source": [
    "* As observed, the daily returns percentage is fluctuatiing between -10 % to 10 % for most of the time with few instance of drastic negative and postive changes"
   ]
  },
  {
   "cell_type": "markdown",
   "metadata": {
    "id": "NvRTT9WWa9G0"
   },
   "source": [
    "**Plot a graph for daily returns over the priods of 2 years**"
   ]
  },
  {
   "cell_type": "code",
   "execution_count": null,
   "metadata": {
    "colab": {
     "base_uri": "https://localhost:8080/",
     "height": 372
    },
    "id": "l0lzoAs_wLVj",
    "outputId": "1e4555e5-ea1b-4f48-9cd9-6d1b47d24a50"
   },
   "outputs": [],
   "source": [
    "df['Day_Perc_Change'].iloc[-504:].plot(figsize = (20, 5), fontsize = 12)\n",
    "plt.title(\"Adani Enterprises Daily Percentage Changes\", fontsize = 20)\n",
    "plt.xlabel('Date')\n",
    "plt.ylabel('Percenatge returns')"
   ]
  },
  {
   "cell_type": "markdown",
   "metadata": {
    "id": "_qjnQDYSbHEw"
   },
   "source": [
    "* As observed, in thelast 2 years the daily returns percentage is fluctuatiing between -10 % to 10 % for most of the time with one instance of drastic negative changes in the month of Jan'23 due to hindenburg report"
   ]
  },
  {
   "cell_type": "markdown",
   "metadata": {
    "id": "SzbQlIE1bWgB"
   },
   "source": [
    "**Plot daily return distribution histogram**"
   ]
  },
  {
   "cell_type": "code",
   "execution_count": null,
   "metadata": {
    "colab": {
     "base_uri": "https://localhost:8080/",
     "height": 537
    },
    "id": "Cn153PiHd2Xq",
    "outputId": "4e04a7ab-b0a2-4869-e578-a4291dc9c136"
   },
   "outputs": [],
   "source": [
    "df['Day_Perc_Change'].hist(bins = 50, figsize = (10,5)) \n",
    "plt.xlabel('Daily returns')\n",
    "plt.ylabel('Frequency')\n",
    "plt.show()\n",
    "print(\"------------------------------------\")\n",
    "print(\"Basic Statisics for Daily Percentages for 13 years\")\n",
    "df['Day_Perc_Change'].describe()"
   ]
  },
  {
   "cell_type": "markdown",
   "metadata": {
    "id": "fw2BTSBaj47J"
   },
   "source": [
    "* The daily returns histogram is centered about origin. For the past 13 years, the mean daily returns has been about 0.161993% and for most of the days the daily return was less than 1% implying that the ADANI Enterprises stock has been less volatile over the period. During the period, the highest % change in positive direction was observed to be 27.367529% and was 38.749320% in negative direction"
   ]
  },
  {
   "cell_type": "markdown",
   "metadata": {
    "id": "yymH7lTAe3SD"
   },
   "source": [
    "**Plot daily return distribution histogram over the priods of 2 years**"
   ]
  },
  {
   "cell_type": "code",
   "execution_count": null,
   "metadata": {
    "colab": {
     "base_uri": "https://localhost:8080/",
     "height": 537
    },
    "id": "27OWrN_letQm",
    "outputId": "c32133bc-de52-42dc-f210-b919c80b9600"
   },
   "outputs": [],
   "source": [
    "df['Day_Perc_Change'].iloc[-504:].hist(bins = 50, figsize = (10,5)) \n",
    "plt.xlabel('Daily returns')\n",
    "plt.ylabel('Frequency')\n",
    "plt.show()\n",
    "print(\"------------------------------------\")\n",
    "print(\"Basic Statisics for Daily Percentages for 2 years\")\n",
    "df['Day_Perc_Change'].iloc[-504:].describe()"
   ]
  },
  {
   "cell_type": "markdown",
   "metadata": {
    "id": "9BGsVZsuhk5A"
   },
   "source": [
    "* The daily returns histogram is centered about origin. For the past 2 years, the mean daily returns has been about 0.309905% and for most of the days the daily return was less than 1% implying that the ADANI Enterprises stock has been less volatile over the period. During the period, the highest % change in positive direction was observed to be 20.039380% and was 28.196980% in negative direction"
   ]
  },
  {
   "cell_type": "markdown",
   "metadata": {
    "id": "TOxtNBgNkEWR"
   },
   "source": [
    "## **Trend Analysis**\n",
    "**Trend is determined from below relationship —**\n",
    "<center>\n",
    "<table>\n",
    "  <tr>\n",
    "    <th>Daily Percentage Change</th>\n",
    "    <th>Trend</th>\n",
    "  </tr>\n",
    "  <tr>\n",
    "    <td>-0.5 to 0.5</td>\n",
    "    <td>Slight or No Change</td>\n",
    "  </tr>\n",
    "  <tr>\n",
    "    <td>0.5 to 1</td>\n",
    "    <td>Slight Positive</td>\n",
    "  </tr>\n",
    "  <tr>\n",
    "    <td>-0.5 to -1</td>\n",
    "    <td>Slight Negative</td>\n",
    "  </tr>\n",
    "  <tr>\n",
    "    <td>1 to 3</td>\n",
    "    <td>Positive</td>\n",
    "  </tr>\n",
    "  <tr>\n",
    "    <td>-1 to -3</td>\n",
    "    <td>Negative</td>\n",
    "  </tr>\n",
    "  <tr>\n",
    "    <td>3 to 7</td>\n",
    "    <td>Among Top Gainers</td>\n",
    "  </tr>\n",
    "  <tr>\n",
    "    <td>-3 to -7</td>\n",
    "    <td>Among Top Losers</td>\n",
    "  </tr>\n",
    "  <tr>\n",
    "    <td>Above 7</td>\n",
    "    <td>Bull Run</td>\n",
    "  </tr>\n",
    "  <tr>\n",
    "    <td>Below 7</td>\n",
    "    <td>Bear Drop</td>\n",
    "  </tr>\n",
    "</table>\n",
    "</center>"
   ]
  },
  {
   "cell_type": "code",
   "execution_count": null,
   "metadata": {
    "colab": {
     "base_uri": "https://localhost:8080/",
     "height": 237
    },
    "id": "H1u-JWSWmh6_",
    "outputId": "44b92eba-d810-4c85-fccc-c889b0c9f1c5"
   },
   "outputs": [],
   "source": [
    "def trend(x):\n",
    "  if x > -0.5 and x <= 0.5:\n",
    "    return 'Slight or No change'\n",
    "  elif x > 0.5 and x <= 1:\n",
    "    return 'Slight Positive'\n",
    "  elif x > -1 and x <= -0.5:\n",
    "    return 'Slight Negative'\n",
    "  elif x > 1 and x <= 3:\n",
    "    return 'Positive'\n",
    "  elif x > -3 and x <= -1:\n",
    "    return 'Negative'\n",
    "  elif x > 3 and x <= 7:\n",
    "    return 'Among top gainers'\n",
    "  elif x > -7 and x <= -3:\n",
    "    return 'Among top losers'\n",
    "  elif x > 7:\n",
    "    return 'Bull run'\n",
    "  elif x <= -7:\n",
    "    return 'Bear drop'\n",
    "df['Trend']= np.zeros(df['Day_Perc_Change'].count())\n",
    "df['Trend']= df['Day_Perc_Change'].apply(lambda x:trend(x))\n",
    "df.head()"
   ]
  },
  {
   "cell_type": "markdown",
   "metadata": {
    "id": "RykUyPBMnHhe"
   },
   "source": [
    "### **Pie chart**"
   ]
  },
  {
   "cell_type": "markdown",
   "metadata": {
    "id": "jRVByGd_nNa0"
   },
   "source": [
    "**Past 13 years trend**"
   ]
  },
  {
   "cell_type": "code",
   "execution_count": null,
   "metadata": {
    "colab": {
     "base_uri": "https://localhost:8080/",
     "height": 500
    },
    "id": "itLIu2HznJw6",
    "outputId": "3baf2662-44b9-45a2-87ff-11f9356b37d7"
   },
   "outputs": [],
   "source": [
    "plt.figure(figsize=(20,5))\n",
    "pie_label = sorted([i for i in df.loc[:, 'Trend'].unique()])\n",
    "plt.pie(df['Trend'].value_counts(), labels = pie_label, autopct = '%1.1f%%', radius = 2)\n",
    "plt.show()"
   ]
  },
  {
   "cell_type": "markdown",
   "metadata": {
    "id": "kd-LXs1QrDft"
   },
   "source": [
    "* For the 13 yeras period, the ADANI Enterprise stock was among the top gainers for about 20.9% of the time, and among the top losers for 20.9 %. \n",
    "* For about 8.1% of the time period, the stock has performed positively on a given day. \n",
    "* Likewise, for most period of time (about 1.7%) the stock showed a very slight change in the price. These observations are consistent with the daily return histogram we saw in above section."
   ]
  },
  {
   "cell_type": "markdown",
   "metadata": {
    "id": "oke_kfXunzX9"
   },
   "source": [
    "**Past 2 years trend**"
   ]
  },
  {
   "cell_type": "code",
   "execution_count": null,
   "metadata": {
    "colab": {
     "base_uri": "https://localhost:8080/",
     "height": 493
    },
    "id": "VtgpNomWnyFC",
    "outputId": "56e6e383-b82e-4a0e-b585-f109569661d3"
   },
   "outputs": [],
   "source": [
    "plt.figure(figsize=(20,5))\n",
    "pie_label = sorted([i for i in df.loc[:, 'Trend'].unique()])\n",
    "plt.pie(df['Trend'].iloc[-504:].value_counts(), labels = pie_label, autopct = '%1.1f%%', radius = 2)\n",
    "plt.show()"
   ]
  },
  {
   "cell_type": "markdown",
   "metadata": {
    "id": "Bhc6OYC1qhaS"
   },
   "source": [
    "* For the 2 yeras period, the ADANI Enterprise stock was among the top gainers for about 25.4% of the time, and among the top losers for 22.4 %. \n",
    "* For about 8.7% of the time period, the stock has performed positively on a given day. \n",
    "* Likewise, for most period of time (about 1.6%) the stock showed a very slight change in the price. These observations are consistent with the daily return histogram we saw in above section."
   ]
  },
  {
   "cell_type": "markdown",
   "metadata": {
    "id": "seqT7YihrOQd"
   },
   "source": [
    "## **Daily Returns and Volume**"
   ]
  },
  {
   "cell_type": "markdown",
   "metadata": {
    "id": "psGvWbvAr4om"
   },
   "source": [
    "**FOr 13 years period**"
   ]
  },
  {
   "cell_type": "code",
   "execution_count": null,
   "metadata": {
    "colab": {
     "base_uri": "https://localhost:8080/",
     "height": 458
    },
    "id": "v8VmxaT2rPNX",
    "outputId": "e3075d83-df62-40a1-cbef-fd7066306cc3"
   },
   "outputs": [],
   "source": [
    "plt.stem(df['Date'], df['Day_Perc_Change'])\n",
    "(df['Volume']/1000000).plot(figsize = (15, 7.5), color = 'green', alpha = 0.5)\n",
    "# Daily volume of trade has been reduced in scale to match with the daily return scale"
   ]
  },
  {
   "cell_type": "markdown",
   "metadata": {
    "id": "eZErS27Zs8IU"
   },
   "source": [
    "* By juxtaposing the daily trade volume(in green) with the daily returns(in blue), it was observed that whenever the volume of shares traded is high, there is comparatively high rise or fall in the price of the stock leading to the high returns. \n",
    "* Thus, on a given day if unconventionally high volume of trading takes place, then one can expect a big change in the market in the either direction. \n",
    "* Volume of shares traded when coupled with the rise or fall in Price of stock, in general, is an indicator of the confidence of the traders & investors in a particular company"
   ]
  },
  {
   "cell_type": "markdown",
   "metadata": {
    "id": "itaf2XK6r7FF"
   },
   "source": [
    "**FOr 2 years period**"
   ]
  },
  {
   "cell_type": "code",
   "execution_count": null,
   "metadata": {
    "colab": {
     "base_uri": "https://localhost:8080/",
     "height": 467
    },
    "id": "KgVjLLgzrPQF",
    "outputId": "4bf32bb7-14d4-43ae-a6cb-0f9acd8e3f3b"
   },
   "outputs": [],
   "source": [
    "plt.stem(df['Date'].iloc[-504:], df['Day_Perc_Change'].iloc[-504:])\n",
    "(df['Volume'].iloc[-504:]/1000000).plot(figsize = (15, 7.5), color = 'green', alpha = 0.5)\n",
    "# Daily volume of trade has been reduced in scale to match with the daily return scale"
   ]
  },
  {
   "cell_type": "markdown",
   "metadata": {
    "id": "55iFJQAstL1m"
   },
   "source": [
    "* By juxtaposing the daily trade volume(in green) with the daily returns(in blue), it was observed that whenever the volume of shares traded is high, there is comparatively high rise or fall in the price of the stock leading to the high returns. \n",
    "* Thus, on a given day if unconventionally high volume of trading takes place, then one can expect a big change in the market in the either direction. \n",
    "* Volume of shares traded when coupled with the rise or fall in Price of stock, in general, is an indicator of the confidence of the traders & investors in a particular company"
   ]
  },
  {
   "cell_type": "markdown",
   "metadata": {
    "id": "RCOvz7pftQfP"
   },
   "source": [
    "## **Correlation Analysis Of Stocks with Pair plot and Joint plots**\n",
    "* “Never put all your eggs in a single basket”\n",
    "\n",
    "* Whenever we go for the diversification of the portfolio, we would NOT want the stocks to be related to each other. Mathematically, Pearson’s correlation coefficient (also called Pearson’s R value) between any pair of stocks should be close to 0. The idea behind is simple — suppose your portfolio comprises of the stocks that are highly correlated, then if one stock tumbles, the others might fall too and you’re at the risk of losing all your investment!\n",
    "\n",
    "* I selected the aforementioned stocks to perform the correlation analysis. All these stocks are from different segments of Industry and Market cap. You are free to choose the stocks of your interest. the procedure remains the same.\n"
   ]
  },
  {
   "cell_type": "code",
   "execution_count": null,
   "metadata": {
    "colab": {
     "base_uri": "https://localhost:8080/",
     "height": 256
    },
    "id": "soPvXa3jrPSj",
    "outputId": "778b0f17-f0f3-4b88-85da-a8843f4eb521"
   },
   "outputs": [],
   "source": [
    "# Adj close price of all the stocks\n",
    "combined_df = yf.download([\"ADANIENT.NS\",\"TATASTEEL.NS\",\"PAGEIND.NS\",\"EICHERMOT.NS\",\"INFY.NS\"], start=\"2010-01-01\", end=\"2023-02-12\")['Adj Close']\n",
    "combined_df = combined_df.round(2)\n",
    "combined_df.head()"
   ]
  },
  {
   "cell_type": "markdown",
   "metadata": {
    "id": "7A-FyEtTPyS6"
   },
   "source": [
    "### **Pairplot**"
   ]
  },
  {
   "cell_type": "code",
   "execution_count": null,
   "metadata": {
    "colab": {
     "base_uri": "https://localhost:8080/",
     "height": 935
    },
    "id": "i6LB88SJ4G2y",
    "outputId": "290744a2-4196-497a-ee11-153b7144b84d"
   },
   "outputs": [],
   "source": [
    "# store daily returns of all above stocks in a new dataframe \n",
    "pct_chg_df = combined_df.pct_change()*100\n",
    "pct_chg_df.dropna(inplace = True, how = 'any', axis = 0)\n",
    "# plotting pairplot  \n",
    "import seaborn as sns\n",
    "plt.figure(figsize = (20,5))\n",
    "sns.set(style = 'ticks', font_scale = 1.25)\n",
    "sns.pairplot(pct_chg_df)"
   ]
  },
  {
   "cell_type": "markdown",
   "metadata": {
    "id": "ufD4pwHz5tWr"
   },
   "source": [
    "* ***Correlation analysis is performed on the daily percentage change(daily returns) of the stock price and not on the stock price.***\n",
    "* If you observe carefully, the plots in the lower triangular area are the same as the plots in the upper triangular area with just axes interchanged. So, analyzing either set of plots would suffice. The diagonal represents the histograms, just like the one seen above for ADANI Enterprises stock.\n",
    "* ADANI ENTERPRISES, EICHER MOTORS , INFY ,PAGEIND and TATASTEEL can be included in a portfolio as no two stocks show any significant correlation.\n",
    "\n",
    "\n",
    "---\n",
    "\n",
    "\n",
    "**Drawback of Correlation PLots:**\n",
    "* Although the pair plots provide very good visualization of all possible combinations between the bunch of stocks, it doesn’t provide any detailed information like Pearson’s R value or null-hypothesis p value to quantify the correlation. That’s where the joint plot comes into the picture!"
   ]
  },
  {
   "cell_type": "markdown",
   "metadata": {
    "id": "Odz2iTEbPrsS"
   },
   "source": [
    "### **Jointplot**\n",
    "* While Pair plot provides a visual insight into all possible correlations, Seaborn jointplot provides detailed information like Pearson’s R value (Pearson’s correlation coefficient) for each pair of stocks. Pearson’s R value ranges from -1 to 1. Negative value indicates a negative linear relation between the variables, while positive value indicates a positive relationship. Pearson’s R value closer to 1 (or -1) indicates strong correlation, while value closer to 0 indicates weak correlation.\n",
    "\n",
    "* In addition to Pearson’s R value, joint plot also shows the respective histograms on the edges as well as null hypothesis p-value.\n",
    "\n"
   ]
  },
  {
   "cell_type": "code",
   "execution_count": null,
   "metadata": {},
   "outputs": [],
   "source": [
    "# # Plot the subplots\n",
    "# fig, axes = plt.subplots(nrows=2, ncols=3, figsize=(10, 6))\n",
    "# axes_list = [item for sublist in axes for item in sublist]\n",
    "# for i, stock in enumerate(['ADANIENT.NS', 'TATASTEEL.NS', 'PAGEIND.NS', 'EICHERMOT.NS', 'INFY.NS']):\n",
    "#     stock_data = combined_df[combined_df['ADANIENT.NS'] == stock]\n",
    "#     sns.jointplot(x='Date', y='Price', data=stock_data, ax=axes_list[i])\n",
    "\n",
    "# # Show the plot\n",
    "# plt.show()"
   ]
  },
  {
   "cell_type": "code",
   "execution_count": null,
   "metadata": {
    "id": "uZP3pa8u4G5y"
   },
   "outputs": [],
   "source": [
    "# from scipy.stats import stats\n",
    "\n",
    "# def joint_plot(a,b):\n",
    "#   g = sns.jointplot(x=pct_chg_df[a], y=pct_chg_df[b], kind='reg', color='royalblue')\n",
    "#   r, p = stats.pearsonr(pct_chg_df[a], pct_chg_df[b])\n",
    "#   g.ax_joint.annotate(f'$\\\\rho = {r:.3f}, p = {p:.3f}$',xy=(0.1, 0.9), xycoords='axes fraction',ha='left', va='center',bbox={'boxstyle': 'round', 'fc': 'powderblue', 'ec': 'navy'})\n",
    "#   g.ax_joint.scatter(pct_chg_df[a], pct_chg_df[b])\n",
    "#   g.set_axis_labels(xlabel=a, ylabel=b, size=15)\n",
    "#   plt.tight_layout()\n",
    "#   plt.show()\n",
    "# ax= 0\n",
    "# for i in range(2):\n",
    "#   plt.subplot(1, 2,ax+1)\n",
    "# joint_plot('ADANIENT.NS','EICHERMOT.NS')\n",
    "# joint_plot('ADANIENT.NS','INFY.NS')\n",
    "# ax = ax +1\n",
    "# fig, ax = plt.subplots(nrows=2, ncols=2)\n",
    "\n",
    "# # plt.subplot(1, 2, 1)\n",
    "# joint_plot('ADANIENT.NS','EICHERMOT.NS')\n",
    "\n",
    "# # plt.subplot(1, 2, 2)\n",
    "# joint_plot('ADANIENT.NS','INFY.NS')\n",
    "# plt.subplot(2, 2, 3)\n",
    "# # plot_data(data)\n",
    "\n",
    "# # plt.subplot(2, 2, 4)\n",
    "# # plot_data(data)\n",
    "\n",
    "# plt.tight_layout()\n",
    "# # plt.show()"
   ]
  },
  {
   "cell_type": "code",
   "execution_count": null,
   "metadata": {},
   "outputs": [],
   "source": [
    "# # Plot the subplots\n",
    "# fig, axes = plt.subplots(nrows=2, ncols=3, figsize=(10, 6))\n",
    "# axes_list = [item for sublist in axes for item in sublist]\n",
    "# for i, d in enumerate(data[:5]):\n",
    "#     sns.jointplot(x='Date', y='Price', data=d, ax=axes_list[i])"
   ]
  },
  {
   "cell_type": "code",
   "execution_count": null,
   "metadata": {
    "colab": {
     "base_uri": "https://localhost:8080/",
     "height": 1000
    },
    "id": "vWfzzzOCadlR",
    "outputId": "167c066d-e0be-4e1f-b6c3-c0be59a44bca"
   },
   "outputs": [],
   "source": [
    "# # import matplotlib.pyplot as plt\n",
    "# # import seaborn as sns\n",
    "# # import statsmodels.api as sm\n",
    "\n",
    "# # def joint_plot(a, b):\n",
    "# #   g = sns.jointplot(x=pct_chg_df[a], y=pct_chg_df[b], kind='reg', color='royalblue')\n",
    "# #   r, p = stats.pearsonr(pct_chg_df[a], pct_chg_df[b])\n",
    "# #   g.ax_joint.annotate(f'$\\\\rho = {r:.3f}, p = {p:.3f}$',xy=(0.1, 0.9), xycoords='axes fraction',ha='left', va='center',bbox={'boxstyle': 'round', 'fc': 'powderblue', 'ec': 'navy'})\n",
    "# #   g.ax_joint.scatter(pct_chg_df[a], pct_chg_df[b])\n",
    "# #   g.set_axis_labels(xlabel=a, ylabel=b, size=15)\n",
    "# #   plt.tight_layout()\n",
    "# #   return g\n",
    "\n",
    "# # def subplot_joint_plots(dataframe, var1, var2, var3):\n",
    "# #   fig, ax = plt.subplots(1, 3, figsize=(20,6))\n",
    "\n",
    "# #   joint_plot(var1, var2).ax_joint.set_axis_off()\n",
    "# #   ax[0].set_title(f\"Joint Plot of {var1} vs {var2}\")\n",
    "\n",
    "# #   joint_plot(var2, var3).ax_joint.set_axis_off()\n",
    "# #   ax[1].set_title(f\"Joint Plot of {var2} vs {var3}\")\n",
    "\n",
    "# #   joint_plot(var3, var1).ax_joint.set_axis_off()\n",
    "# #   ax[2].set_title(f\"Joint Plot of {var3} vs {var1}\")\n",
    "\n",
    "# #   plt.show()\n",
    "\n",
    "# # subplot_joint_plots(pct_chg_df, \"ADANIENT.NS\", \"INFY.NS\", \"EICHERMOT.NS\")\n",
    "# fig, ax = plt.subplots(ncols=6, nrows=1, figsize=(20,10))\n",
    "# # index = 0\n",
    "# ax = ax.flatten()\n",
    "# joint_plot(pct_chg_df, \"ADANIENT.NS\", \"INFY.NS\")\n",
    "# joint_plot(pct_chg_df, \"ADANIENT.NS\", \"INFY.NS\")\n",
    "\n",
    "# # plt.tight_layout(pad=0.5, w_pad=0.7, h_pad=5.0)"
   ]
  },
  {
   "cell_type": "code",
   "execution_count": null,
   "metadata": {
    "id": "3HmGkeEbbPeR"
   },
   "outputs": [],
   "source": [
    "# import matplotlib.pyplot as plt\n",
    "# import seaborn as sns\n",
    "# import statsmodels.api as sm\n",
    "\n",
    "# def joint_plot(df, a, b):\n",
    "#   g = sns.jointplot(x=df[a], y=df[b], kind='reg', color='royalblue')\n",
    "#   r, p = stats.pearsonr(df[a], df[b])\n",
    "#   g.ax_joint.annotate(f'$\\\\rho = {r:.3f}, p = {p:.3f}$',xy=(0.1, 0.9), xycoords='axes fraction',ha='left', va='center',bbox={'boxstyle': 'round', 'fc': 'powderblue', 'ec': 'navy'})\n",
    "#   g.ax_joint.scatter(df[a], df[b])\n",
    "#   g.set_axis_labels(xlabel=a, ylabel=b, size=15)\n",
    "#   plt.tight_layout()\n",
    "#   return g\n",
    "\n",
    "# # def subplot_joint_plots(df, var1, var2, var3):\n",
    "# #   fig, ax = plt.subplots(1, 3, figsize=(20,6))\n",
    "\n",
    "# #   joint_plot(df, var1, var2).ax_joint.set_axis_off()\n",
    "# #   ax[0].set_title(f\"Joint Plot of {var1} vs {var2}\")\n",
    "\n",
    "# #   joint_plot(df, var2, var3).ax_joint.set_axis_off()\n",
    "# #   ax[1].set_title(f\"Joint Plot of {var2} vs {var3}\")\n",
    "\n",
    "# #   joint_plot(df, var3, var1).ax_joint.set_axis_off()\n",
    "# #   ax[2].set_title(f\"Joint Plot of {var3} vs {var1}\")\n",
    "\n",
    "# #   plt.show()\n",
    "\n",
    "# # subplot_joint_plots(pct_chg_df, \"ADANIENT.NS\", \"INFY.NS\", \"EICHERMOT.NS\")\n"
   ]
  },
  {
   "cell_type": "markdown",
   "metadata": {},
   "source": [
    "###### Rolling Moving Average = sum of the last n closing prices / n\n",
    "###### where n is the number of periods (days in the case of stock prices) over which you want to calculate the moving average."
   ]
  },
  {
   "cell_type": "code",
   "execution_count": null,
   "metadata": {},
   "outputs": [],
   "source": [
    "# Calculate the simple moving average\n",
    "window_size_1 = 50\n",
    "rolling_mean_1 = combined_df.rolling(window=window_size_1).mean()"
   ]
  },
  {
   "cell_type": "code",
   "execution_count": null,
   "metadata": {
    "id": "bu0obp_04HAn"
   },
   "outputs": [],
   "source": [
    "# Plot the moving averages\n",
    "plt.figure(figsize=(12, 8))\n",
    "for stock in combined_df.columns:\n",
    "    plt.plot(combined_df[stock], label=f'{stock} Actual')\n",
    "    plt.plot(rolling_mean_1[stock], label=f'{stock} Simple MA ({window_size_1} days)')\n",
    "#     plt.plot(rolling_mean_2[stock], label=f'{stock} Exponential MA ({window_size_2} days)')\n",
    "plt.legend()\n",
    "plt.title(\"Adjusted Close Price and Moving Averages\")\n",
    "plt.xlabel(\"Year\")\n",
    "plt.ylabel(\"Adjusted Close Price\")\n",
    "plt.show()"
   ]
  },
  {
   "cell_type": "markdown",
   "metadata": {},
   "source": [
    "###### The formula for an exponential moving average (EMA) is a bit more complex, as it places more weight on the most recent data points and less weight on older data points. The formula is as follows:\n",
    "###### EMA = (closing price - EMA(previous day)) x (2 / n + 1) + EMA(previous day)\n",
    "\n",
    "###### where n is the number of periods (days in the case of stock prices) over which you want to calculate the EMA, and EMA(previous day) is the exponential moving average of the previous day. The number 2 / (n + 1) is the weight applied to the current day's price, with larger values of n giving more weight to older data points and smaller values of n giving more weight to recent data points."
   ]
  },
  {
   "cell_type": "code",
   "execution_count": null,
   "metadata": {},
   "outputs": [],
   "source": [
    "# Calculate the exponential moving average\n",
    "window_size_2 = 50\n",
    "rolling_mean_2 = combined_df.ewm(span=window_size_2).mean()"
   ]
  },
  {
   "cell_type": "code",
   "execution_count": null,
   "metadata": {},
   "outputs": [],
   "source": [
    "plt.figure(figsize=(20,10))\n",
    "for stock in combined_df.columns:\n",
    "    plt.plot(combined_df[stock], label=f'{stock} Actual')\n",
    "    plt.plot(rolling_mean_1[stock], label=f'{stock} Simple MA ({window_size_1} days)')\n",
    "plt.legend()\n",
    "plt.title(\"Adjusted Close Price and Moving Averages\")\n",
    "plt.xlabel(\"Year\")\n",
    "plt.ylabel(\"Adjusted Close Price\")\n",
    "plt.show()"
   ]
  },
  {
   "cell_type": "code",
   "execution_count": null,
   "metadata": {},
   "outputs": [],
   "source": [
    "\n",
    "# Download the stock data\n",
    "stock_data = yf.download(\"ADANIENT.NS\", start=\"2010-01-01\", end=\"2023-02-12\")['Adj Close']\n",
    "\n",
    "# Calculate the simple moving average\n",
    "window_size = 50\n",
    "rolling_mean = stock_data.rolling(window=window_size).mean()\n",
    "\n",
    "# Plot the moving average\n",
    "plt.figure(figsize=(20,10))\n",
    "plt.plot(stock_data, label='Actual')\n",
    "plt.plot(rolling_mean, label=f'Simple MA ({window_size} days)')\n",
    "plt.legend()\n",
    "plt.title(\"Adjusted Close Price and Simple Moving Average\")\n",
    "plt.xlabel(\"Year\")\n",
    "plt.ylabel(\"Adjusted Close Price\")\n",
    "plt.show()"
   ]
  },
  {
   "cell_type": "code",
   "execution_count": null,
   "metadata": {},
   "outputs": [],
   "source": [
    "# Calculate the exponential moving average\n",
    "window_size = 50\n",
    "rolling_mean = stock_data.ewm(span=window_size).mean()\n",
    "\n",
    "# Plot the moving average\n",
    "plt.figure(figsize=(20, 10))\n",
    "plt.plot(stock_data, label='Actual')\n",
    "plt.plot(rolling_mean, label=f'Exponential MA ({window_size} days)')\n",
    "plt.legend()\n",
    "plt.title(\"Adjusted Close Price and Exponential Moving Average\")\n",
    "plt.xlabel(\"Year\")\n",
    "plt.ylabel(\"Adjusted Close Price\")\n",
    "plt.show()"
   ]
  },
  {
   "cell_type": "code",
   "execution_count": null,
   "metadata": {},
   "outputs": [],
   "source": [
    "# Calculate the exponential moving average\n",
    "window_size = 50\n",
    "exp_weights = pd.Series(range(1, window_size+1), index=range(window_size))\n",
    "exp_weights = exp_weights.apply(lambda x: x/exp_weights.sum())\n",
    "rolling_mean = stock_data.rolling(window=window_size).apply(lambda x: (x*exp_weights).sum(), raw=True)\n",
    "\n",
    "# Plot the moving average\n",
    "plt.figure(figsize=(12, 8))\n",
    "plt.plot(stock_data, label='Actual')\n",
    "plt.plot(rolling_mean, label=f'Exponential MA ({window_size} days)')\n",
    "plt.legend()\n",
    "plt.title(\"Adjusted Close Price and Exponential Moving Average\")\n",
    "plt.xlabel(\"Year\")\n",
    "plt.ylabel(\"Adjusted Close Price\")\n",
    "plt.show()"
   ]
  },
  {
   "cell_type": "code",
   "execution_count": null,
   "metadata": {},
   "outputs": [],
   "source": [
    "# Calculate the simple moving average\n",
    "window_size = 50\n",
    "simple_mean = stock_data.rolling(window=window_size).mean()\n",
    "\n",
    "# Calculate the exponential moving average\n",
    "exp_mean = stock_data.ewm(span=window_size).mean()\n",
    "\n",
    "# Plot the comparison\n",
    "plt.figure(figsize=(20,10))\n",
    "plt.plot(stock_data, label='Actual')\n",
    "plt.plot(simple_mean, label=f'Simple MA ({window_size} days)')\n",
    "plt.plot(exp_mean, label=f'Exponential MA ({window_size} days)')\n",
    "plt.legend()\n",
    "plt.title(\"Adjusted Close Price and Moving Averages Comparison\")\n",
    "plt.xlabel(\"Year\")\n",
    "plt.ylabel(\"Adjusted Close Price\")\n",
    "plt.show()"
   ]
  },
  {
   "cell_type": "markdown",
   "metadata": {},
   "source": [
    "##### In the plot, you can see that the simple moving average (in blue) is smoother and slower to react to changes in the stock price compared to the exponential moving average (in orange). This is because the simple moving average takes the average of all the stock prices within the window and gives each price the same weight, while the exponential moving average assigns more weight to recent prices, making it more responsive to changes in the stock price.\n",
    "\n",
    "##### From the plot, it can be seen that the exponential moving average tends to follow the actual stock price more closely than the simple moving average. This is because the exponential moving average gives more weight to recent prices, which can be more relevant in quickly changing market conditions."
   ]
  },
  {
   "cell_type": "code",
   "execution_count": null,
   "metadata": {},
   "outputs": [],
   "source": []
  },
  {
   "cell_type": "markdown",
   "metadata": {},
   "source": [
    "## Exploring the stock using more plots"
   ]
  },
  {
   "cell_type": "code",
   "execution_count": null,
   "metadata": {},
   "outputs": [],
   "source": [
    "# Line Chart\n",
    "plt.figure(figsize=(20,10))\n",
    "plt.plot(df['Adj Close'])\n",
    "plt.title(\"Line Chart for ADANIENT.NS Stock Price\")\n",
    "plt.xlabel(\"Date\")\n",
    "plt.ylabel(\"Adjusted Close Price\")\n",
    "plt.show()"
   ]
  },
  {
   "cell_type": "code",
   "execution_count": null,
   "metadata": {},
   "outputs": [],
   "source": [
    "!pip install --upgrade mplfinance"
   ]
  },
  {
   "cell_type": "code",
   "execution_count": null,
   "metadata": {},
   "outputs": [],
   "source": [
    "# Candlestick Chart\n",
    "\n",
    "import mplfinance as mpf\n",
    "# plt.title(\"Candlestick Chart for ADANIENT.NS Stock Price\")\n",
    "mpf.plot(df, type='candle', mav=(50, 200), volume=True, style='charles')\n",
    "\n",
    "# plt.xlabel(\"Date\")\n",
    "# plt.ylabel(\"Price\")\n",
    "# plt.show()"
   ]
  },
  {
   "cell_type": "markdown",
   "metadata": {},
   "source": [
    "### To create a candlestick chart is as follows:\n",
    "\n",
    "##### Calculate the opening price, closing price, highest price, and lowest price for the desired period of time.\n",
    "##### Plot the opening price and closing price as the body of the candlestick.\n",
    "##### Plot the highest price and lowest price as the shadow of the candlestick.\n",
    "##### Color the body of the candlestick green or white if the closing price is higher than the opening price, and red or black if the opening price is higher than the closing price."
   ]
  },
  {
   "cell_type": "code",
   "execution_count": null,
   "metadata": {},
   "outputs": [],
   "source": [
    "# Volume Chart\n",
    "plt.figure(figsize=(20,10))\n",
    "plt.bar(df.index, df['Volume'])\n",
    "plt.title(\"Volume Chart for ADANIENT.NS Stock\")\n",
    "plt.xlabel(\"Date\")\n",
    "plt.ylabel(\"Volume\")\n",
    "plt.show()"
   ]
  },
  {
   "cell_type": "markdown",
   "metadata": {},
   "source": [
    "### The insights from the volume chart for ADANIENT.NS stock are:\n",
    "\n",
    "#### 1. Confirming trends: If the volume is increasing as the stock price rises, it confirms the trend. Conversely, if the volume decreases as the stock price rises, it may indicate a lack of interest in the stock and a potential trend reversal.\n",
    "\n",
    "#### 2. Spotting Breakouts: High volume spikes can signal a potential breakout or a significant change in trend.\n",
    "\n",
    "#### 3. Identifying accumulation and distribution: Volume can be used to identify whether the market is accumulating or distributing a security. If the volume is increasing while the stock price is falling, it may indicate that the market is accumulating the stock, while if the volume is decreasing while the stock price is falling, it may indicate that the market is distributing the stock.\n",
    "\n",
    "#### 4. Divergences: Divergences between the stock price and volume can signal potential trend reversals. For example, if the stock price is making new highs but volume is decreasing, it may indicate that the trend is losing momentum."
   ]
  },
  {
   "cell_type": "code",
   "execution_count": null,
   "metadata": {},
   "outputs": [],
   "source": [
    "# Moving Average Chart\n",
    "plt.figure(figsize=(15,5))\n",
    "df['50-day MA'] = df['Adj Close'].rolling(window=50).mean()\n",
    "plt.plot(df['Adj Close'], label='Adj Close Price')\n",
    "plt.plot(df['50-day MA'], label='50-day MA')\n",
    "plt.title(\"Moving Average Chart for ADANIENT.NS Stock\")\n",
    "plt.xlabel(\"Date\")\n",
    "plt.ylabel(\"Price\")\n",
    "plt.legend()\n",
    "plt.show()"
   ]
  },
  {
   "cell_type": "markdown",
   "metadata": {},
   "source": [
    "### The Bollinger Bands are a useful tool for analyzing a stock's price action, as they can provide valuable insights into the stock's volatility and trend. For example:\n",
    "\n",
    "##### 1. When the stock price is near the upper band, it can indicate that the stock is overbought, and the price may be due for a correction.\n",
    "\n",
    "##### 2. When the stock price is near the lower band, it can indicate that the stock is oversold, and the price may be due for a bounce.\n",
    "\n",
    "##### 3. If the stock price moves away from the moving average and stays outside of the Bollinger Bands for an extended period of time, it can                       indicate a strong trend in either direction.\n",
    "\n",
    "##### 4. If the stock price moves within the Bollinger Bands and bounces back and forth, it can indicate that the stock is consolidating and may be                 building up energy for a future move."
   ]
  },
  {
   "cell_type": "code",
   "execution_count": null,
   "metadata": {},
   "outputs": [],
   "source": [
    "# Bollinger Bands Chart\n",
    "plt.figure(figsize=(15,5))\n",
    "df['MA'] = df['Adj Close'].rolling(window=20).mean()\n",
    "df['STD'] = df['Adj Close'].rolling(window=20).std()\n",
    "df['Upper Band'] = df['MA'] + 2*df['STD']\n",
    "df['Lower Band'] = df['MA'] - 2*df['STD']\n",
    "plt.plot(df['Adj Close'], label='Adj Close Price')\n",
    "plt.plot(df['Upper Band'], label='Upper Band', linestyle='--')\n",
    "plt.plot(df['Lower Band'], label='Lower Band', linestyle='--')\n",
    "plt.title(\"Bollinger Bands Chart for ADANIENT.NS Stock\")\n",
    "plt.xlabel(\"Date\")\n",
    "plt.ylabel(\"Price\")\n",
    "plt.legend()\n",
    "plt.show()"
   ]
  },
  {
   "cell_type": "markdown",
   "metadata": {},
   "source": [
    "##### The formula for Bollinger Bands is as follows:\n",
    "\n",
    "##### Middle Band = Simple Moving Average (SMA) of the stock price over a certain number of periods (usually 20 periods).\n",
    "\n",
    "##### Upper Band = Middle Band + (2 * Standard Deviation of the stock price over the same number of periods).\n",
    "\n",
    "##### Lower Band = Middle Band - (2 * Standard Deviation of the stock price over the same number of periods).\n",
    "\n",
    "##### Where the standard deviation is a statistical measure of the deviation of the stock price from the average."
   ]
  },
  {
   "cell_type": "code",
   "execution_count": null,
   "metadata": {},
   "outputs": [],
   "source": [
    "# Create the MACD line\n",
    "fast_period = 12\n",
    "slow_period = 26\n",
    "signal_period = 9\n",
    "df[\"MACD\"] = df['Adj Close'].ewm(span=fast_period, adjust=False).mean() - df['Adj Close'].ewm(span=slow_period, adjust=False).mean()\n",
    "df[\"Signal\"] = df[\"MACD\"].ewm(span=signal_period, adjust=False).mean()"
   ]
  },
  {
   "cell_type": "code",
   "execution_count": null,
   "metadata": {},
   "outputs": [],
   "source": [
    "# Plot the MACD chart\n",
    "plt.figure(figsize=(16, 8))\n",
    "plt.plot(df['Adj Close'], label='Adj Close')\n",
    "plt.plot(df[\"MACD\"], label='MACD')\n",
    "plt.plot(df[\"Signal\"], label='Signal')\n",
    "plt.legend(loc='best')\n",
    "plt.title(\"MACD Chart for ADANIENT.NS\")\n",
    "plt.show()"
   ]
  },
  {
   "cell_type": "markdown",
   "metadata": {},
   "source": [
    "#### The MACD line crossing above the signal line is generally considered a bullish signal, indicating that the stock's upward momentum is increasing and it may be a good time to buy. Conversely, when the MACD line crosses below the signal line, it is considered a bearish signal, indicating that the stock's downward momentum is increasing and it may be a good time to sell."
   ]
  },
  {
   "cell_type": "markdown",
   "metadata": {},
   "source": [
    "#### The MACD (Moving Average Convergence Divergence) formula is calculated as follows:\n",
    "\n",
    "##### Calculate the 12-day EMA of the adjusted close price.\n",
    "##### Calculate the 26-day EMA of the adjusted close price.\n",
    "##### Subtract the 26-day EMA from the 12-day EMA to get the MACD line.\n",
    "##### Calculate the 9-day EMA of the MACD line to get the signal line.\n",
    "\n",
    "##### The MACD line and the signal line are then plotted on a chart along with the adjusted close price, creating the MACD chart.\n",
    "\n",
    "##### The formula for an exponential moving average (EMA) is:\n",
    "##### EMA(t) = EMA(t-1) + α * (price(t) - EMA(t-1))\n",
    "\n",
    "\n",
    "#### where t is the current time period, α is the smoothing factor (2 / (n+1), where n is the number of periods), and price(t) is the adjusted close price for the current time period.\n"
   ]
  },
  {
   "cell_type": "code",
   "execution_count": null,
   "metadata": {},
   "outputs": [],
   "source": [
    "combined_df.head()"
   ]
  },
  {
   "cell_type": "code",
   "execution_count": null,
   "metadata": {
    "id": "4aH6tZ1HhlmK"
   },
   "outputs": [],
   "source": [
    "df['Day_Perc_Change'].iloc[-504:].describe()"
   ]
  },
  {
   "cell_type": "markdown",
   "metadata": {},
   "source": [
    "## price-to-earnings ratio"
   ]
  },
  {
   "cell_type": "code",
   "execution_count": null,
   "metadata": {
    "id": "-r3nOIFanJzx"
   },
   "outputs": [],
   "source": [
    "# Calculate the price-to-earnings ratio\n",
    "pe_ratio = df['regularMarketPrice']/df['earningsPerShare']"
   ]
  },
  {
   "cell_type": "code",
   "execution_count": null,
   "metadata": {
    "id": "k8RsXsxZd2aX"
   },
   "outputs": [],
   "source": []
  },
  {
   "cell_type": "code",
   "execution_count": null,
   "metadata": {
    "id": "l6XsfyCad2di"
   },
   "outputs": [],
   "source": []
  },
  {
   "cell_type": "code",
   "execution_count": null,
   "metadata": {
    "id": "67VMAnzbd2gK"
   },
   "outputs": [],
   "source": []
  },
  {
   "cell_type": "code",
   "execution_count": null,
   "metadata": {
    "id": "i3uXNvDjd2hs"
   },
   "outputs": [],
   "source": []
  },
  {
   "cell_type": "code",
   "execution_count": null,
   "metadata": {
    "id": "Q-m8NTkdwUCL"
   },
   "outputs": [],
   "source": [
    "#Our web application will be based on close price"
   ]
  },
  {
   "cell_type": "code",
   "execution_count": null,
   "metadata": {
    "id": "5JOV_ynTwZFL"
   },
   "outputs": [],
   "source": [
    "plt.plot(df['Close'])"
   ]
  },
  {
   "cell_type": "code",
   "execution_count": null,
   "metadata": {
    "id": "29oF_WFFwccD"
   },
   "outputs": [],
   "source": [
    "# Moving Average of 100 days\n",
    "ma100 = df['Close'].rolling(100).mean()\n",
    "plt.figure(figsize=(12,6))\n",
    "plt.plot(df['Close'])\n",
    "plt.plot(ma100,'r')"
   ]
  },
  {
   "cell_type": "code",
   "execution_count": null,
   "metadata": {
    "id": "Pc8n1Unaw1yb"
   },
   "outputs": [],
   "source": [
    "# Moving average of 200 days\n",
    "ma200 = df['Close'].rolling(200).mean()\n",
    "plt.figure(figsize=(12,6))\n",
    "plt.plot(df['Close'])\n",
    "plt.plot(ma200,'g')"
   ]
  },
  {
   "cell_type": "code",
   "execution_count": null,
   "metadata": {
    "id": "hXLoikGFxDPL"
   },
   "outputs": [],
   "source": [
    "df.shape"
   ]
  },
  {
   "cell_type": "code",
   "execution_count": null,
   "metadata": {
    "id": "ycLT0USjxGMD"
   },
   "outputs": [],
   "source": [
    "df.isnull().sum()"
   ]
  },
  {
   "cell_type": "code",
   "execution_count": null,
   "metadata": {
    "id": "bQGGwDbUxQRT"
   },
   "outputs": [],
   "source": [
    "#Splitting data into training and testing\n",
    "data_training = pd.DataFrame(df['Close'][0:int(len(df)*0.70)])\n",
    "data_testing = pd.DataFrame(df['Close'][int(len(df)*0.70):int(len(df))])"
   ]
  },
  {
   "cell_type": "code",
   "execution_count": null,
   "metadata": {
    "id": "lHAWz70OxkZD"
   },
   "outputs": [],
   "source": [
    "data_training.shape"
   ]
  },
  {
   "cell_type": "code",
   "execution_count": null,
   "metadata": {
    "id": "Y8xUXTKMxxA7"
   },
   "outputs": [],
   "source": [
    "data_testing.shape"
   ]
  },
  {
   "cell_type": "code",
   "execution_count": null,
   "metadata": {
    "id": "1PDfAbiaxz26"
   },
   "outputs": [],
   "source": [
    "df.shape"
   ]
  },
  {
   "cell_type": "code",
   "execution_count": null,
   "metadata": {
    "id": "FFUuyKxHx2Ia"
   },
   "outputs": [],
   "source": [
    "data_training.head()"
   ]
  },
  {
   "cell_type": "code",
   "execution_count": null,
   "metadata": {
    "id": "cD2UzTIFx5-D"
   },
   "outputs": [],
   "source": [
    "data_testing.tail()"
   ]
  },
  {
   "cell_type": "code",
   "execution_count": null,
   "metadata": {
    "id": "k_JDLl_Yx9O7"
   },
   "outputs": [],
   "source": [
    "#Scaling down the data for LSTM model\n",
    "from sklearn.preprocessing import MinMaxScaler\n",
    "scaler = MinMaxScaler(feature_range = (0,1))"
   ]
  },
  {
   "cell_type": "code",
   "execution_count": null,
   "metadata": {
    "id": "JRjSlqshyNsr"
   },
   "outputs": [],
   "source": [
    "data_training_array = scaler.fit_transform(data_training)\n",
    "data_training_array"
   ]
  },
  {
   "cell_type": "code",
   "execution_count": null,
   "metadata": {
    "id": "-BkNtYlAyU4S"
   },
   "outputs": [],
   "source": [
    "# Splitting int train and test\n",
    "X_train = []\n",
    "y_train = []\n",
    "# Price on 11th day is dependent on previoud day price. Steps = 100 daya here\n",
    "# For first 100 days will be feature (X_train) and next day will be y_train\n",
    "# After each step steps, it will forget  one data\n",
    "# (34 36 33 40 39 38 37 42 44 38) --X_train (11th day)--y_train"
   ]
  },
  {
   "cell_type": "code",
   "execution_count": null,
   "metadata": {
    "id": "n3OA3N9vzYIi"
   },
   "outputs": [],
   "source": [
    "for i in range(100, data_training.shape[0]):\n",
    "  X_train.append(data_training_array[i-100:i])\n",
    "  y_train.append(data_training_array[i,0])"
   ]
  },
  {
   "cell_type": "code",
   "execution_count": null,
   "metadata": {
    "id": "_ZJRSzQIzu0D"
   },
   "outputs": [],
   "source": [
    "X_train, y_train = np.array(X_train), np.array(y_train)"
   ]
  },
  {
   "cell_type": "code",
   "execution_count": null,
   "metadata": {
    "id": "gq8MIY2z0pju"
   },
   "outputs": [],
   "source": [
    "X_train.shape"
   ]
  },
  {
   "cell_type": "code",
   "execution_count": null,
   "metadata": {
    "id": "a715pl0Kz53z"
   },
   "outputs": [],
   "source": [
    "# ML model creation\n",
    "from keras.layers import Dense, Dropout, LSTM\n",
    "from keras.models import Sequential"
   ]
  },
  {
   "cell_type": "code",
   "execution_count": null,
   "metadata": {
    "id": "g7jl7C3F0LVq"
   },
   "outputs": [],
   "source": [
    "model = Sequential()\n",
    "model.add(LSTM(units = 50, activation = 'relu', return_sequences = True, input_shape = (X_train.shape[1],1)))\n",
    "model.add(Dropout(0.2))\n",
    "\n",
    "\n",
    "model.add(LSTM(units = 60, activation = 'relu', return_sequences = True))\n",
    "model.add(Dropout(0.3))\n",
    "\n",
    "\n",
    "model.add(LSTM(units = 80, activation = 'relu', return_sequences = True))\n",
    "model.add(Dropout(0.4))\n",
    "\n",
    "\n",
    "model.add(LSTM(units = 120, activation = 'relu'))\n",
    "model.add(Dropout(0.5))\n",
    "\n",
    "model.add(Dense(units = 1))"
   ]
  },
  {
   "cell_type": "code",
   "execution_count": null,
   "metadata": {
    "id": "BdDe4Qwd0vqS"
   },
   "outputs": [],
   "source": [
    "model.summary()"
   ]
  },
  {
   "cell_type": "code",
   "execution_count": null,
   "metadata": {
    "id": "mzXbnc4A1hwq"
   },
   "outputs": [],
   "source": [
    "model.compile(optimizer = 'adam', loss = 'mean_squared_error')\n",
    "model.fit(X_train, y_train, epochs = 50)"
   ]
  },
  {
   "cell_type": "code",
   "execution_count": null,
   "metadata": {
    "id": "Htx1cbJl1xZK"
   },
   "outputs": [],
   "source": [
    "model.save('keras_model.h5')"
   ]
  },
  {
   "cell_type": "code",
   "execution_count": null,
   "metadata": {
    "id": "-svqKkZE46Np"
   },
   "outputs": [],
   "source": [
    "#We have to append last 100 days data from the training dataset to predict the value for testing data\n",
    "# Because for index 2290, no previous data is available\n",
    "past_100_days = data_training.tail(100)"
   ]
  },
  {
   "cell_type": "code",
   "execution_count": null,
   "metadata": {
    "id": "KgrwGB3W5Hvi"
   },
   "outputs": [],
   "source": [
    "final_df = past_100_days.append(data_testing, ignore_index = True)"
   ]
  },
  {
   "cell_type": "code",
   "execution_count": null,
   "metadata": {
    "id": "IlYii3-V5pNK"
   },
   "outputs": [],
   "source": [
    "# Scaline down the test data\n",
    "input_data = scaler.transform(final_df)"
   ]
  },
  {
   "cell_type": "code",
   "execution_count": null,
   "metadata": {
    "id": "vPk7oKXF55LS"
   },
   "outputs": [],
   "source": [
    "input_data.shape"
   ]
  },
  {
   "cell_type": "code",
   "execution_count": null,
   "metadata": {
    "id": "F5H39O9f56Zi"
   },
   "outputs": [],
   "source": [
    "X_test = []\n",
    "y_test = [] "
   ]
  },
  {
   "cell_type": "code",
   "execution_count": null,
   "metadata": {
    "id": "_0NdSjFh6FpT"
   },
   "outputs": [],
   "source": [
    "for i in range(100, input_data.shape[0]):\n",
    "  X_test.append(data_training_array[i-100:i])\n",
    "  y_test.append(data_training_array[i,0])"
   ]
  },
  {
   "cell_type": "code",
   "execution_count": null,
   "metadata": {
    "id": "PXaUmnRe6FpU"
   },
   "outputs": [],
   "source": [
    "X_test, y_test = np.array(X_test), np.array(y_test)"
   ]
  },
  {
   "cell_type": "code",
   "execution_count": null,
   "metadata": {
    "id": "BghiuwX46FpU"
   },
   "outputs": [],
   "source": [
    "X_test.shape"
   ]
  },
  {
   "cell_type": "code",
   "execution_count": null,
   "metadata": {
    "id": "CKf-7CRT6U1x"
   },
   "outputs": [],
   "source": [
    "# Making predictions\n",
    "y_pred = model.predict(X_test)"
   ]
  },
  {
   "cell_type": "code",
   "execution_count": null,
   "metadata": {
    "id": "ZQTOY08i6fmx"
   },
   "outputs": [],
   "source": [
    "y_pred.shape"
   ]
  },
  {
   "cell_type": "code",
   "execution_count": null,
   "metadata": {
    "id": "pJiGFFvR6hlx"
   },
   "outputs": [],
   "source": [
    "y_test.shape"
   ]
  },
  {
   "cell_type": "code",
   "execution_count": null,
   "metadata": {
    "id": "cjcgZCfp6jJZ"
   },
   "outputs": [],
   "source": [
    "# Scaling up the value because it was scaled down\n",
    "scale_factor = 1/scaler.scale_\n",
    "y_pred = y_pred *scale_factor\n",
    "y_test = y_test *scale_factor"
   ]
  },
  {
   "cell_type": "code",
   "execution_count": null,
   "metadata": {
    "id": "xSsBKeAG6nab"
   },
   "outputs": [],
   "source": [
    "plt.figure(figsize=(12,6))\n",
    "plt.plot(y_test, 'b', label = 'Original Price')\n",
    "plt.plot(y_pred, 'r', label = 'Predicted Price')\n",
    "plt.xlabel('Time')\n",
    "plt.ylabel('Price')\n",
    "plt.legend()\n",
    "plt.show()"
   ]
  },
  {
   "cell_type": "code",
   "execution_count": null,
   "metadata": {
    "id": "_VL8HdW-7BJ5"
   },
   "outputs": [],
   "source": [
    "# import pickle\n",
    "# pickle.dump(model, open('keras_model.pkl','wb'))\n",
    "\n",
    "# model = pickle.load(open('model.pkl','rb'))"
   ]
  },
  {
   "cell_type": "code",
   "execution_count": null,
   "metadata": {
    "id": "1FmNXsPBFKYv"
   },
   "outputs": [],
   "source": [
    "import keras\n",
    "print(keras.__version__)"
   ]
  }
 ],
 "metadata": {
  "colab": {
   "provenance": []
  },
  "kernelspec": {
   "display_name": "Python 3 (ipykernel)",
   "language": "python",
   "name": "python3"
  },
  "language_info": {
   "codemirror_mode": {
    "name": "ipython",
    "version": 3
   },
   "file_extension": ".py",
   "mimetype": "text/x-python",
   "name": "python",
   "nbconvert_exporter": "python",
   "pygments_lexer": "ipython3",
   "version": "3.10.4"
  }
 },
 "nbformat": 4,
 "nbformat_minor": 1
}
